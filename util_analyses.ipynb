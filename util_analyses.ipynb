{
 "cells": [
  {
   "cell_type": "code",
   "execution_count": 1,
   "metadata": {},
   "outputs": [],
   "source": [
    "%config InlineBackend.figure_format = 'retina'"
   ]
  },
  {
   "cell_type": "code",
   "execution_count": 2,
   "metadata": {},
   "outputs": [],
   "source": [
    "import pandas as pd\n",
    "import numpy as np\n",
    "import matplotlib.pyplot as plt\n",
    "import seaborn as sns\n",
    "import glob"
   ]
  },
  {
   "cell_type": "code",
   "execution_count": 3,
   "metadata": {},
   "outputs": [],
   "source": [
    "from functools import partial\n",
    "\n",
    "pd.set_option('precision', 0)\n",
    "pd.set_option('display.float_format', lambda x: '%.2f' % x)"
   ]
  },
  {
   "cell_type": "code",
   "execution_count": 4,
   "metadata": {},
   "outputs": [],
   "source": [
    "def load_data_cb(path, dropc=None):\n",
    "    rawdf = pd.DataFrame(cb.Data(path).data)\n",
    "    rawdf.rename(columns={'_mseed': 'seed'}, inplace=True)\n",
    "    \n",
    "    if dropc:\n",
    "        rawdf.drop(dropc, axis=1, inplace=True) \n",
    "    \n",
    "    # simulation & model parameter columns\n",
    "    cidx = list(filter(lambda x: x.startswith('_') or x=='seed', rawdf.columns))\n",
    "    df = rawdf.set_index(cidx).apply(pd.Series.explode).reset_index()\n",
    "    \n",
    "    # remove trials \n",
    "    df = df[np.logical_and(np.logical_and(df.trial>=1, df.trial<=128), df.n_categories<=5)]\n",
    "    df.loc[df.correct=='10', 'n_categories'] += 1\n",
    "\n",
    "    return df"
   ]
  },
  {
   "cell_type": "code",
   "execution_count": 1,
   "metadata": {},
   "outputs": [],
   "source": [
    "def load_data(path, add_cols):\n",
    "    \"\"\"\n",
    "    Load the csv file produced by the experiment and return truncated responses.\n",
    "    add_cols: add columns with fixed parameter values (e.g., SP dim)\n",
    "    \"\"\"\n",
    "    path = os.path.join(path, '*.csv')\n",
    "    df = pd.concat((pd.read_csv(f, header=0, index_col=0) for f in glob.glob(path)), ignore_index=False)\n",
    "    assert len(df) > 0\n",
    "    \n",
    "    # truncate the dataset to 128 trials or when 6 categories have been completed\n",
    "    df = df[np.logical_and(np.logical_and(df.trial>=1, df.trial<=128), df.n_categories<=5)]\n",
    "    df.loc[df.correct=='10', 'n_categories'] += 1\n",
    "    \n",
    "    # add additional columns with parameter values\n",
    "    if add_cols:\n",
    "        for c_name, c_val in add_cols.items():\n",
    "            df[c_name] = c_val\n",
    "    return df"
   ]
  },
  {
   "cell_type": "code",
   "execution_count": null,
   "metadata": {},
   "outputs": [],
   "source": [
    "def discard_seeds(df, index, criterion='above', th=1, debug=True):\n",
    "    \"\"\"Use this function only for a single experiment (i.e., all seeds in df are unique)\n",
    "    and not aggregate of multiple ones.\n",
    "    \"\"\"\n",
    "    op = np.greater if criterion=='above' else np.less\n",
    "    dat = getattr(df.groupby('seed', as_index=False)[index].max(), index)\n",
    "    remove_idx = dat[op(dat, th)]\n",
    "    if debug:            \n",
    "        print('Will discard {} seeds'.format(len(remove_idx)))\n",
    "    return df[~df.seed.isin(remove_idx.index)]"
   ]
  },
  {
   "cell_type": "code",
   "execution_count": 34,
   "metadata": {},
   "outputs": [],
   "source": [
    "def get_stats_SE(df):\n",
    "    return df.apply(lambda row: row.SD/np.sqrt(row.N), axis=1)\n",
    "\n",
    "def get_ctimesSE(df):\n",
    "    return df.apply(lambda row: 1.96*row.SE, axis=1)\n",
    "\n",
    "def get_stats_CIs(df):\n",
    "    cil = df.apply(lambda row: row.Mean-1.96*row.SE, axis=1)\n",
    "    cih = df.apply(lambda row: row.Mean+1.96*row.SE, axis=1)\n",
    "    cidiff = cih - cil\n",
    "    return cil, cih, cidiff"
   ]
  },
  {
   "cell_type": "code",
   "execution_count": 35,
   "metadata": {},
   "outputs": [],
   "source": [
    "def get_human_stats():\n",
    "    \"\"\"\n",
    "    Data from Table 1 (younger group, N=25) from Ashendorf et al (2008): \n",
    "    EXPLORING AGE-RELATED DECLINE ON THE WISCONSIN CARD SORTING TEST,\n",
    "    The Clinical Neuropsychologist\n",
    "    \"\"\"\n",
    "    n = 25\n",
    "    \n",
    "    stats = pd.DataFrame(\n",
    "        {'Total trials': [n, 88.24, 17.52],\n",
    "         'Trials correct': [n, 69.40, 6.65],\n",
    "         'Errors': [n, 18.84, 12.40],\n",
    "         'Perseverative responses': [n, 9.08, 6.51],\n",
    "         'Perseverative errors': [n, 9.00, 6.59],\n",
    "         'Categories': [n, 5.80, 0.58],\n",
    "         'Trials to 1st category': [n, 17.20, 9.63],\n",
    "         'Failure to maintain set': [n, 0.28, 0.54],        \n",
    "         'Conceptual category': [n, 0, 0],\n",
    "         'Learning to learn': [n, 1.75, 3.19],\n",
    "        }, index=['N', 'Mean', 'SD']).T\n",
    "    \n",
    "    stats['SE'] = get_stats_SE(stats)\n",
    "    stats['cSE'] = get_ctimesSE(stats)\n",
    "    stats['CIl'], stats['CIh'], stats['CIdiff'] = get_stats_CIs(stats)\n",
    "\n",
    "    return stats"
   ]
  },
  {
   "cell_type": "code",
   "execution_count": 36,
   "metadata": {},
   "outputs": [],
   "source": [
    "def get_stats(df):    \n",
    "    \n",
    "    def get_concept_category(row):\n",
    "        idx, counts = np.unique(row.correct, return_counts=True)\n",
    "        sums = np.array([0 if c in ['1', '2', 'X'] else counts[i] for i, c in enumerate(idx)])\n",
    "        return 100*sum(sums)/sum(counts)\n",
    "    \n",
    "    def get_learning_to_learn(row):\n",
    "        g = row.groupby('n_categories')\n",
    "        return np.diff(g.error.sum()/len(g)).mean()    \n",
    "\n",
    "    n = df.seed.unique().size\n",
    "    group = df.groupby('seed')\n",
    "    errors = group.error.sum()#.error\n",
    "    total_trials = group.trial.max()\n",
    "    correct_trials = group.apply(lambda x: sum(x.correct!='X'))\n",
    "    presp = group.p_response.sum()\n",
    "    p_errors = group.p_error.sum()\n",
    "    categories = group.n_categories.max()\n",
    "    trials_to_first = group.apply(lambda x: x.query('n_categories==1').trial.min())\n",
    "    fail_set = group.fail_shift.sum()\n",
    "    concept_cat = group.apply(get_concept_category)\n",
    "    l2l = group.apply(get_learning_to_learn)\n",
    "    \n",
    "    stats = pd.DataFrame(\n",
    "        {'Total trials': [n, total_trials.mean(), total_trials.std()],\n",
    "         'Trials correct': [n, correct_trials.mean(), correct_trials.std()],\n",
    "         'Errors': [n, errors.mean(), errors.std()],\n",
    "         'Perseverative responses': [n, presp.mean(), presp.std()],\n",
    "         'Perseverative errors': [n, p_errors.mean(), p_errors.std()],\n",
    "         'Categories': [n, categories.mean(), categories.std()],\n",
    "         'Trials to 1st category': [n, trials_to_first.mean(), trials_to_first.std()],\n",
    "         'Failure to maintain set': [n, fail_set.mean(), fail_set.std()],        \n",
    "         'Conceptual category': [n, concept_cat.mean(), concept_cat.std()],\n",
    "         'Learning to learn': [n, l2l.mean(), l2l.std()],\n",
    "        }, index=['N', 'Mean', 'SD']).T\n",
    "    \n",
    "    stats['SE'] = get_stats_SE(stats)\n",
    "    stats['cSE'] = get_ctimesSE(stats)\n",
    "    stats['CIl'], stats['CIh'], stats['CIdiff'] = get_stats_CIs(stats)\n",
    "    \n",
    "    return stats"
   ]
  }
 ],
 "metadata": {
  "kernelspec": {
   "display_name": "Python 3",
   "language": "python",
   "name": "python3"
  },
  "language_info": {
   "codemirror_mode": {
    "name": "ipython",
    "version": 3
   },
   "file_extension": ".py",
   "mimetype": "text/x-python",
   "name": "python",
   "nbconvert_exporter": "python",
   "pygments_lexer": "ipython3",
   "version": "3.8.5"
  }
 },
 "nbformat": 4,
 "nbformat_minor": 2
}
